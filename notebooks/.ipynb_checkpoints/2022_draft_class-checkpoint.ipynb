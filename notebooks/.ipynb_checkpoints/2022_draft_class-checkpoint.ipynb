{
 "cells": [
  {
   "cell_type": "code",
   "execution_count": null,
   "id": "df39df58-d760-44d3-bf88-764d3f40a901",
   "metadata": {},
   "outputs": [],
   "source": [
    "pip install basketball_reference_scraper"
   ]
  },
  {
   "cell_type": "code",
   "execution_count": null,
   "id": "c7a4c9d7-d44d-47b2-b7db-35216329cd85",
   "metadata": {},
   "outputs": [],
   "source": [
    "from basketball_reference_scraper.teams import get_roster, get_team_stats, get_opp_stats, get_roster_stats, get_team_misc\n",
    "from basketball_reference_scraper.players import get_stats, get_game_logs, get_player_headshot\n",
    "from basketball_reference_scraper.pbp import get_pbp\n",
    "from basketball_reference_scraper.box_scores import get_box_scores\n",
    "from basketball_reference_scraper.pbp import get_pbp\n",
    "from basketball_reference_scraper.shot_charts import get_shot_chart\n",
    "from basketball_reference_scraper.injury_report import get_injury_report\n",
    "from basketball_reference_scraper.drafts import get_draft_class\n",
    "import pandas as pd\n",
    "pd.set_option('display.max_columns', None)"
   ]
  },
  {
   "cell_type": "code",
   "execution_count": null,
   "id": "50c58656-c68e-490a-950c-2488372f7fa4",
   "metadata": {},
   "outputs": [],
   "source": [
    "draft = get_draft_class(2022)\n",
    "draft"
   ]
  },
  {
   "cell_type": "code",
   "execution_count": null,
   "id": "1c66b79f-70cb-4859-93ee-98996b9d385d",
   "metadata": {},
   "outputs": [],
   "source": [
    "nba_teams = ['ATL','BOS','BRK','CHO','CHI','CLE','DAL','DEN','DET','GSW',\n",
    "             'HOU','IND','LAC','LAL','MEM','MIA','MIL','MIN','NOP','NYK',\n",
    "             'OKC','ORL','PHI','PHO','POR','SAC','SAS','TOR','UTA','WAS']\n",
    "\n",
    "player_stat_list = []\n",
    "\n",
    "for team in nba_teams:\n",
    "    player_stats = get_roster_stats(team, 2023, data_format='PER_GAME', playoffs=False)\n",
    "    player_stats['TEAM'] = team\n",
    "    player_stat_list.append(player_stats)\n",
    "\n",
    "roster_stats_df = pd.concat(player_stat_list,ignore_index=True)"
   ]
  },
  {
   "cell_type": "code",
   "execution_count": null,
   "id": "d71b6312-4175-496f-a645-2fecc0b619c6",
   "metadata": {},
   "outputs": [],
   "source": [
    "roster_stats_df"
   ]
  },
  {
   "cell_type": "code",
   "execution_count": null,
   "id": "61ae2aec-6cb2-4e82-b626-a92562d77d68",
   "metadata": {},
   "outputs": [],
   "source": [
    "rookie_merge = pd.merge(roster_stats_df,draft,how='right',on='PLAYER')\n",
    "rookie_merge"
   ]
  },
  {
   "cell_type": "code",
   "execution_count": null,
   "id": "722d4cba-bb4f-44ae-a969-619fca6f2030",
   "metadata": {},
   "outputs": [],
   "source": [
    "per_stats = ['PLAYER', 'G','MP','FG','FGA','FT','FTA','ORB',\n",
    "             'DRB','AST','STL','BLK','TOV','PF','PTS','ADVANCED_WS',\n",
    "            'ADVANCED_BPM','ADVANCED_VORP']\n",
    "rookie_merge = rookie_merge[per_stats]\n",
    "rookie_merge.head()"
   ]
  },
  {
   "cell_type": "code",
   "execution_count": null,
   "id": "e7057778-6be9-4e7f-a8df-956a5c0fd9bb",
   "metadata": {},
   "outputs": [],
   "source": [
    "rookie_merge[per_stats[1:]] = rookie_merge[per_stats[1:]].apply(pd.to_numeric, errors='coerce')\n",
    "rookie_merge.info()"
   ]
  },
  {
   "cell_type": "code",
   "execution_count": null,
   "id": "f7aa03a3-b356-4b5d-bc94-d72b2cf4947f",
   "metadata": {},
   "outputs": [],
   "source": [
    "rookie_merge['PER'] = (0.68+(26.77*rookie_merge.FG)-(35.58*rookie_merge.FGA)+(26.32*rookie_merge.FT)-\n",
    "                       (25.47*rookie_merge.FTA)+(42.74*rookie_merge.ORB)+(11.45*rookie_merge.DRB)+\n",
    "                       (29.7*rookie_merge.AST)+(47.3*rookie_merge.STL)+(38*rookie_merge.BLK)-(47.9*rookie_merge.TOV)-\n",
    "                       (18.8*rookie_merge.PF)+(41.1*rookie_merge.PTS))/rookie_merge.MP\n",
    "rookie_merge['PER'] = rookie_merge['PER'].round(1)\n",
    "rookie_merge.head()"
   ]
  }
 ],
 "metadata": {
  "kernelspec": {
   "display_name": "Python 3 (ipykernel)",
   "language": "python",
   "name": "python3"
  },
  "language_info": {
   "codemirror_mode": {
    "name": "ipython",
    "version": 3
   },
   "file_extension": ".py",
   "mimetype": "text/x-python",
   "name": "python",
   "nbconvert_exporter": "python",
   "pygments_lexer": "ipython3",
   "version": "3.10.14"
  }
 },
 "nbformat": 4,
 "nbformat_minor": 5
}
