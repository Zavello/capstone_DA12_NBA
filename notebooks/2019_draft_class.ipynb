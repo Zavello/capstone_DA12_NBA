{
 "cells": [
  {
   "cell_type": "code",
   "execution_count": null,
   "id": "8769ddfe-1f00-436a-b23f-b2f3a6babc97",
   "metadata": {},
   "outputs": [],
   "source": [
    "pip install basketball_reference_scraper"
   ]
  },
  {
   "cell_type": "code",
   "execution_count": null,
   "id": "52cdcdcc-d776-46c6-9cb6-6d7cb0791b7f",
   "metadata": {},
   "outputs": [],
   "source": [
    "from basketball_reference_scraper.teams import get_roster, get_team_stats, get_opp_stats, get_roster_stats, get_team_misc\n",
    "from basketball_reference_scraper.players import get_stats, get_game_logs, get_player_headshot\n",
    "from basketball_reference_scraper.pbp import get_pbp\n",
    "from basketball_reference_scraper.box_scores import get_box_scores\n",
    "from basketball_reference_scraper.pbp import get_pbp\n",
    "from basketball_reference_scraper.shot_charts import get_shot_chart\n",
    "from basketball_reference_scraper.injury_report import get_injury_report\n",
    "from basketball_reference_scraper.drafts import get_draft_class\n",
    "import pandas as pd\n",
    "pd.set_option('display.max_columns', None)"
   ]
  },
  {
   "cell_type": "code",
   "execution_count": null,
   "id": "fe3af286-8fae-4754-a47f-73c9e0d82d24",
   "metadata": {},
   "outputs": [],
   "source": [
    "draft = get_draft_class(2019)\n",
    "draft['YEAR'] =  2019\n",
    "draft"
   ]
  },
  {
   "cell_type": "code",
   "execution_count": null,
   "id": "85e36eba-2fec-4a82-b820-a302e83aa963",
   "metadata": {},
   "outputs": [],
   "source": [
    "atl = get_roster_stats('ATL', 2020, data_format='PER_GAME', playoffs=False)"
   ]
  },
  {
   "cell_type": "code",
   "execution_count": null,
   "id": "8d5e0448-3ddf-4154-a38f-0e8e7956fcd6",
   "metadata": {},
   "outputs": [],
   "source": [
    "bos = get_roster_stats('BOS', 2020, data_format='PER_GAME', playoffs=False)"
   ]
  },
  {
   "cell_type": "code",
   "execution_count": null,
   "id": "be15903c-2814-4b80-b744-4b8ff0dedb02",
   "metadata": {},
   "outputs": [],
   "source": [
    "brk = get_roster_stats('BRK', 2020, data_format='PER_GAME', playoffs=False)"
   ]
  },
  {
   "cell_type": "code",
   "execution_count": null,
   "id": "1dcce47a-2826-42b7-b760-b64ae8ee5c0e",
   "metadata": {},
   "outputs": [],
   "source": [
    "cho = get_roster_stats('CHO', 2020, data_format='PER_GAME', playoffs=False)"
   ]
  },
  {
   "cell_type": "code",
   "execution_count": null,
   "id": "ef452b46-2747-43eb-bb5d-a72b134cde92",
   "metadata": {},
   "outputs": [],
   "source": [
    "chi = get_roster_stats('CHI', 2020, data_format='PER_GAME', playoffs=False)"
   ]
  },
  {
   "cell_type": "code",
   "execution_count": null,
   "id": "b3b33351-c670-43ca-ba22-4ec09ed3d97a",
   "metadata": {},
   "outputs": [],
   "source": [
    "cle = get_roster_stats('CLE', 2020, data_format='PER_GAME', playoffs=False)"
   ]
  },
  {
   "cell_type": "code",
   "execution_count": null,
   "id": "2d434662-bfb2-4919-99a2-bead76cb0f14",
   "metadata": {},
   "outputs": [],
   "source": [
    "dal = get_roster_stats('DAL', 2020, data_format='PER_GAME', playoffs=False)"
   ]
  },
  {
   "cell_type": "code",
   "execution_count": null,
   "id": "b381b0fe-b3a3-494b-8c6b-473f2f325a2b",
   "metadata": {},
   "outputs": [],
   "source": [
    "den = get_roster_stats('DEN', 2020, data_format='PER_GAME', playoffs=False)"
   ]
  },
  {
   "cell_type": "code",
   "execution_count": null,
   "id": "28fce7d4-6c45-41d0-892a-e6a2397f7592",
   "metadata": {},
   "outputs": [],
   "source": [
    "det = get_roster_stats('DET', 2020, data_format='PER_GAME', playoffs=False)"
   ]
  },
  {
   "cell_type": "code",
   "execution_count": null,
   "id": "4e6dfcbd-dfcb-4a28-897c-9ff774e3908e",
   "metadata": {},
   "outputs": [],
   "source": [
    "gsw = get_roster_stats('GSW', 2020, data_format='PER_GAME', playoffs=False)"
   ]
  },
  {
   "cell_type": "code",
   "execution_count": null,
   "id": "c987f430-0647-4f93-ab1c-2d618bf35286",
   "metadata": {},
   "outputs": [],
   "source": [
    "hou = get_roster_stats('HOU', 2020, data_format='PER_GAME', playoffs=False)"
   ]
  },
  {
   "cell_type": "code",
   "execution_count": null,
   "id": "0b2e1757-91d2-4435-87e8-22a92df73a26",
   "metadata": {},
   "outputs": [],
   "source": [
    "ind = get_roster_stats('IND', 2020, data_format='PER_GAME', playoffs=False)"
   ]
  },
  {
   "cell_type": "code",
   "execution_count": null,
   "id": "06299d60-53ec-4f4a-b4f1-5e7d4df6cf2d",
   "metadata": {},
   "outputs": [],
   "source": [
    "lac = get_roster_stats('LAC', 2020, data_format='PER_GAME', playoffs=False)"
   ]
  },
  {
   "cell_type": "code",
   "execution_count": null,
   "id": "15a8f6c0-8e68-4187-ac55-e695f88d0dfc",
   "metadata": {},
   "outputs": [],
   "source": [
    "lal = get_roster_stats('LAL', 2020, data_format='PER_GAME', playoffs=False)"
   ]
  },
  {
   "cell_type": "code",
   "execution_count": null,
   "id": "352a70ae-02fa-4e12-a37f-92ba47a10b5c",
   "metadata": {},
   "outputs": [],
   "source": [
    "mem = get_roster_stats('MEM', 2020, data_format='PER_GAME', playoffs=False)"
   ]
  },
  {
   "cell_type": "code",
   "execution_count": null,
   "id": "834fe90f-4b09-40cf-8d7f-3cd6e0fe28d1",
   "metadata": {},
   "outputs": [],
   "source": [
    "mia = get_roster_stats('MIA', 2020, data_format='PER_GAME', playoffs=False)"
   ]
  },
  {
   "cell_type": "code",
   "execution_count": null,
   "id": "4f0e1939-bacb-4075-b048-d3e17ae8fc1a",
   "metadata": {},
   "outputs": [],
   "source": [
    "mil = get_roster_stats('MIL', 2020, data_format='PER_GAME', playoffs=False)"
   ]
  },
  {
   "cell_type": "code",
   "execution_count": null,
   "id": "097d6ce2-df88-4bcf-b9da-f5d5bc00de41",
   "metadata": {},
   "outputs": [],
   "source": [
    "minn = get_roster_stats('MIN', 2020, data_format='PER_GAME', playoffs=False)"
   ]
  },
  {
   "cell_type": "code",
   "execution_count": null,
   "id": "5119a1a9-66f4-46e7-a6e5-2bc83a8aa3e9",
   "metadata": {},
   "outputs": [],
   "source": [
    "nop = get_roster_stats('NOP', 2020, data_format='PER_GAME', playoffs=False)"
   ]
  },
  {
   "cell_type": "code",
   "execution_count": null,
   "id": "023be628-4883-4b30-aeb3-5014a24d6407",
   "metadata": {},
   "outputs": [],
   "source": [
    "nyk = get_roster_stats('NYK', 2020, data_format='PER_GAME', playoffs=False)"
   ]
  },
  {
   "cell_type": "code",
   "execution_count": null,
   "id": "5967998b-1ad7-461a-8dd5-c11736db08c1",
   "metadata": {},
   "outputs": [],
   "source": [
    "okc = get_roster_stats('OKC', 2020, data_format='PER_GAME', playoffs=False)"
   ]
  },
  {
   "cell_type": "code",
   "execution_count": null,
   "id": "41eeb567-ef72-427e-8a03-3c62bf00fde5",
   "metadata": {},
   "outputs": [],
   "source": [
    "orl = get_roster_stats('ORL', 2020, data_format='PER_GAME', playoffs=False)"
   ]
  },
  {
   "cell_type": "code",
   "execution_count": null,
   "id": "ef2cdd0a-e17c-47a3-9fc3-72eff3ea2210",
   "metadata": {},
   "outputs": [],
   "source": [
    "phi = get_roster_stats('PHI', 2020, data_format='PER_GAME', playoffs=False)"
   ]
  },
  {
   "cell_type": "code",
   "execution_count": null,
   "id": "404a1229-b054-4e90-824f-b4c976c1e19b",
   "metadata": {},
   "outputs": [],
   "source": [
    "pho = get_roster_stats('PHO', 2020, data_format='PER_GAME', playoffs=False)"
   ]
  },
  {
   "cell_type": "code",
   "execution_count": null,
   "id": "60724262-473f-4e28-9545-89b3305e2d68",
   "metadata": {},
   "outputs": [],
   "source": [
    "por = get_roster_stats('POR', 2020, data_format='PER_GAME', playoffs=False)"
   ]
  },
  {
   "cell_type": "code",
   "execution_count": null,
   "id": "247ee450-08d8-4c99-b1d7-d834f81cf77f",
   "metadata": {},
   "outputs": [],
   "source": [
    "sac = get_roster_stats('SAC', 2020, data_format='PER_GAME', playoffs=False)"
   ]
  },
  {
   "cell_type": "code",
   "execution_count": null,
   "id": "f0d45fc6-0676-4dc8-89c1-3a934d402ca8",
   "metadata": {},
   "outputs": [],
   "source": [
    "sas = get_roster_stats('SAS', 2020, data_format='PER_GAME', playoffs=False)"
   ]
  },
  {
   "cell_type": "code",
   "execution_count": null,
   "id": "1ddb7302-2652-4bd2-8afe-06dd2f5d39e5",
   "metadata": {},
   "outputs": [],
   "source": [
    "tor = get_roster_stats('TOR', 2020, data_format='PER_GAME', playoffs=False)"
   ]
  },
  {
   "cell_type": "code",
   "execution_count": null,
   "id": "dd41dd51-14f6-4f48-9cae-466ba5b78953",
   "metadata": {},
   "outputs": [],
   "source": [
    "uta = get_roster_stats('UTA', 2020, data_format='PER_GAME', playoffs=False)"
   ]
  },
  {
   "cell_type": "code",
   "execution_count": null,
   "id": "6e44a1ad-24c8-4a8d-8829-9a666bda3139",
   "metadata": {},
   "outputs": [],
   "source": [
    "was = get_roster_stats('WAS', 2020, data_format='PER_GAME', playoffs=False)"
   ]
  },
  {
   "cell_type": "code",
   "execution_count": null,
   "id": "ba748569-7c58-439a-8dba-9df9f16a3cae",
   "metadata": {},
   "outputs": [],
   "source": [
    "# atl = get_roster_stats('ATL', 2020, data_format='PER_GAME', playoffs=False)\n",
    "# bos = get_roster_stats('BOS', 2020, data_format='PER_GAME', playoffs=False)\n",
    "# brk = get_roster_stats('BRK', 2020, data_format='PER_GAME', playoffs=False)\n",
    "# cho = get_roster_stats('CHO', 2020, data_format='PER_GAME', playoffs=False)\n",
    "# chi = get_roster_stats('CHI', 2020, data_format='PER_GAME', playoffs=False)\n",
    "# cle = get_roster_stats('CLE', 2020, data_format='PER_GAME', playoffs=False)\n",
    "# dal = get_roster_stats('DAL', 2020, data_format='PER_GAME', playoffs=False)\n",
    "# den = get_roster_stats('DEN', 2020, data_format='PER_GAME', playoffs=False)\n",
    "# det = get_roster_stats('DET', 2020, data_format='PER_GAME', playoffs=False)\n",
    "# gsw = get_roster_stats('GSW', 2020, data_format='PER_GAME', playoffs=False)\n",
    "# hou = get_roster_stats('HOU', 2020, data_format='PER_GAME', playoffs=False)\n",
    "# ind = get_roster_stats('IND', 2020, data_format='PER_GAME', playoffs=False)\n",
    "# lac = get_roster_stats('LAC', 2020, data_format='PER_GAME', playoffs=False)\n",
    "# lal = get_roster_stats('LAL', 2020, data_format='PER_GAME', playoffs=False)\n",
    "# mem = get_roster_stats('MEM', 2020, data_format='PER_GAME', playoffs=False)\n",
    "# mia = get_roster_stats('MIA', 2020, data_format='PER_GAME', playoffs=False)\n",
    "# mil = get_roster_stats('MIL', 2020, data_format='PER_GAME', playoffs=False)\n",
    "# minn = get_roster_stats('MIN', 2020, data_format='PER_GAME', playoffs=False)\n",
    "# nop = get_roster_stats('NOP', 2020, data_format='PER_GAME', playoffs=False)\n",
    "# nyk = get_roster_stats('NYK', 2020, data_format='PER_GAME', playoffs=False)\n",
    "# okc = get_roster_stats('OKC', 2020, data_format='PER_GAME', playoffs=False)\n",
    "# orl = get_roster_stats('ORL', 2020, data_format='PER_GAME', playoffs=False)\n",
    "# phi = get_roster_stats('PHI', 2020, data_format='PER_GAME', playoffs=False)\n",
    "# pho = get_roster_stats('PHO', 2020, data_format='PER_GAME', playoffs=False)\n",
    "# por = get_roster_stats('POR', 2020, data_format='PER_GAME', playoffs=False)\n",
    "# sac = get_roster_stats('SAC', 2020, data_format='PER_GAME', playoffs=False)\n",
    "# sas = get_roster_stats('SAS', 2020, data_format='PER_GAME', playoffs=False)\n",
    "# tor = get_roster_stats('TOR', 2020, data_format='PER_GAME', playoffs=False)\n",
    "# uta = get_roster_stats('UTA', 2020, data_format='PER_GAME', playoffs=False)\n",
    "# was = get_roster_stats('WAS', 2020, data_format='PER_GAME', playoffs=False)"
   ]
  },
  {
   "cell_type": "code",
   "execution_count": null,
   "id": "210a958f-a037-4d99-80a4-69110117cd02",
   "metadata": {},
   "outputs": [],
   "source": [
    "roster_stats_df = pd.concat([atl,bos,brk,cho,chi,cle,dal,den,det,gsw,hou,ind,lac,lal,mem,mia,mil,minn,nop,nyk,okc,orl,phi,pho,por,sac,sas,tor,uta,was], ignore_index=True)"
   ]
  },
  {
   "cell_type": "code",
   "execution_count": null,
   "id": "92027ee9-8710-4a49-b3b3-fa15e098a42d",
   "metadata": {},
   "outputs": [],
   "source": [
    "rookie_merge = pd.merge(roster_stats_df,draft,how='right',on='PLAYER')"
   ]
  },
  {
   "cell_type": "code",
   "execution_count": null,
   "id": "05e720c1-915f-438d-80f3-2315c5a51ae4",
   "metadata": {},
   "outputs": [],
   "source": [
    "per_stats = ['PLAYER', 'PICK', 'TEAM','YEAR', 'G','MP','FG','FGA','FT','FTA','ORB',\n",
    "             'DRB','AST','STL','BLK','TOV','PF','PTS','ADVANCED_WS',\n",
    "            'ADVANCED_BPM','ADVANCED_VORP']\n",
    "rookie_merge = rookie_merge[per_stats]\n",
    "rookie_merge.head()"
   ]
  },
  {
   "cell_type": "code",
   "execution_count": null,
   "id": "8b495714-4502-428e-9a8b-78f642432577",
   "metadata": {},
   "outputs": [],
   "source": [
    "rookie_merge[per_stats[4:]] = rookie_merge[per_stats[4:]].apply(pd.to_numeric, errors='coerce')\n",
    "rookie_merge.info()"
   ]
  },
  {
   "cell_type": "code",
   "execution_count": null,
   "id": "adfda444-5ad7-4a0f-b805-2879dfe2e9fd",
   "metadata": {},
   "outputs": [],
   "source": [
    "rookie_merge['PER'] = (0.68+(26.77*rookie_merge.FG)-(35.58*rookie_merge.FGA)+(26.32*rookie_merge.FT)-\n",
    "                       (25.47*rookie_merge.FTA)+(42.74*rookie_merge.ORB)+(11.45*rookie_merge.DRB)+\n",
    "                       (29.7*rookie_merge.AST)+(47.3*rookie_merge.STL)+(38*rookie_merge.BLK)-(47.9*rookie_merge.TOV)-\n",
    "                       (18.8*rookie_merge.PF)+(41.1*rookie_merge.PTS))/rookie_merge.MP\n",
    "rookie_merge['PER'] = rookie_merge['PER'].round(1)\n",
    "rookie_merge.head()"
   ]
  },
  {
   "cell_type": "code",
   "execution_count": null,
   "id": "49975108-9add-4354-982b-e385d2da294f",
   "metadata": {},
   "outputs": [],
   "source": [
    "rookie_merge.to_csv('2019_draft_class.csv', index=False)"
   ]
  },
  {
   "cell_type": "code",
   "execution_count": null,
   "id": "7a6e8dbc-2b69-4755-ab9f-56c9f60b347a",
   "metadata": {},
   "outputs": [],
   "source": []
  }
 ],
 "metadata": {
  "kernelspec": {
   "display_name": "Python 3 (ipykernel)",
   "language": "python",
   "name": "python3"
  },
  "language_info": {
   "codemirror_mode": {
    "name": "ipython",
    "version": 3
   },
   "file_extension": ".py",
   "mimetype": "text/x-python",
   "name": "python",
   "nbconvert_exporter": "python",
   "pygments_lexer": "ipython3",
   "version": "3.12.4"
  }
 },
 "nbformat": 4,
 "nbformat_minor": 5
}
